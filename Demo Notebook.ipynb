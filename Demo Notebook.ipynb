{
 "cells": [
  {
   "cell_type": "markdown",
   "metadata": {},
   "source": [
    "# RadReportAnnotator Demo\n",
    "\n",
    "We demonstrate on data from the [Indiana University Chest X-ray Dataset (Demner-Fushman et al.)](https://www.ncbi.nlm.nih.gov/pubmed/26133894)\n",
    "\n",
    "This example can be adapted to your own collection of radiology reports exported from Montage \n",
    "and a manually-generated set of classification labels"
   ]
  },
  {
   "cell_type": "markdown",
   "metadata": {},
   "source": [
    "Import library:"
   ]
  },
  {
   "cell_type": "code",
   "execution_count": 1,
   "metadata": {
    "collapsed": true
   },
   "outputs": [],
   "source": [
    "import RadReportAnnotator as ra\n",
    "import os.path"
   ]
  },
  {
   "cell_type": "markdown",
   "metadata": {},
   "source": [
    "Instantiate RadReportAnnotator object with paths to demo `reports` and `labels`. \n",
    "\n",
    "`Reports` contains 3,666 deidentified chest x-ray radiology reports. \n",
    "\n",
    "`Labels` contains binary labels for `Normal`, `Opacity`, `Cardiomegaly`, `Nodule`, and `Fibrosis` for 1,500 of these reports."
   ]
  },
  {
   "cell_type": "code",
   "execution_count": 2,
   "metadata": {
    "collapsed": true
   },
   "outputs": [],
   "source": [
    "CXRAnnotator = ra.RadReportAnnotator(report_dir_path=os.path.join(\"pseudodata\",\"reports\"), \n",
    "                                     validation_file_path=os.path.join(\"pseudodata\",\"labels\",\"labeled_reports.xlsx\"))"
   ]
  },
  {
   "cell_type": "markdown",
   "metadata": {},
   "source": [
    "Set arguments for RadReportAnnotator here in define_config - see documentation in RadReportAnnotator for more information.\n",
    "\n",
    "Models that use only bag of words (`DO_BOW=True,DO_WORD2VEC=False`) have been competitive in our experience with those that use both bag of words and word embeddings (`DO_BOW=True, DO_WORD2VEC=True`). Word embeddings can take considerable time to train on larger datasets. \n",
    "\n",
    "In the below demo, we use bag of words features (`DO_BOW=True`) with 1, 2, and 3-grams (`N_GRAM_SIZES=[1,2,3]`)."
   ]
  },
  {
   "cell_type": "code",
   "execution_count": 3,
   "metadata": {
    "collapsed": true
   },
   "outputs": [],
   "source": [
    "CXRAnnotator.define_config(DO_BOW=True,\n",
    "\tDO_WORD2VEC=False,\n",
    "\tDO_PARAGRAPH_VECTOR=False,\n",
    "\tN_GRAM_SIZES=[1,2,3],\n",
    "\tSILVER_THRESHOLD=\"fiftypct\",\n",
    "\tNAME_UNID_REPORTS = \"ACCID\", \n",
    "\tNAME_TEXT_REPORTS =\"REPORT\", \n",
    "\tN_THRESH_CORPUS=10,\n",
    "\tN_THRESH_OUTCOMES=50)"
   ]
  },
  {
   "cell_type": "markdown",
   "metadata": {},
   "source": [
    "Build corpus from reports"
   ]
  },
  {
   "cell_type": "code",
   "execution_count": 4,
   "metadata": {},
   "outputs": [
    {
     "name": "stdout",
     "output_type": "stream",
     "text": [
      "building pre-corpus\n",
      "pre-corpus built\n",
      "preprocessing reports\n"
     ]
    },
    {
     "name": "stderr",
     "output_type": "stream",
     "text": [
      "100%|█████████████████████████████████████████████████████████████████████████████| 3666/3666 [00:07<00:00, 473.86it/s]\n"
     ]
    },
    {
     "name": "stdout",
     "output_type": "stream",
     "text": [
      "creating n-grams\n"
     ]
    },
    {
     "name": "stderr",
     "output_type": "stream",
     "text": [
      "100%|████████████████████████████████████████████████████████████████████████████| 3666/3666 [00:00<00:00, 6268.53it/s]\n"
     ]
    },
    {
     "name": "stdout",
     "output_type": "stream",
     "text": [
      "number of unique n-grams: 33865\n",
      "number of unique n-grams after filtering out low frequency tokens: 2425\n"
     ]
    }
   ],
   "source": [
    "CXRAnnotator.build_corpus()"
   ]
  },
  {
   "cell_type": "markdown",
   "metadata": {},
   "source": [
    "We can examine how the preprocessing works. Let's look at the original input text for report at index 500:"
   ]
  },
  {
   "cell_type": "code",
   "execution_count": 5,
   "metadata": {},
   "outputs": [
    {
     "data": {
      "text/plain": [
       "'  Comparison:  None   Indication:  Central line placement   Findings:  The heart is borderline in size. The aorta is mildly tortuous. XXXX right IJ catheter is in XXXX with tip in proximal right atrium/cavoatrial junction. There is no pneumothorax. Lungs are grossly clear. There is no large effusion.   Impression:  Right IJ catheter tip in proximal right atrium. No pneumothorax. '"
      ]
     },
     "execution_count": 5,
     "metadata": {},
     "output_type": "execute_result"
    }
   ],
   "source": [
    "CXRAnnotator.df_data['Report Text'].iloc[500]"
   ]
  },
  {
   "cell_type": "markdown",
   "metadata": {},
   "source": [
    "Let's look this report after preprocessing:"
   ]
  },
  {
   "cell_type": "code",
   "execution_count": 6,
   "metadata": {},
   "outputs": [
    {
     "name": "stdout",
     "output_type": "stream",
     "text": [
      "['comparison', 'none', 'indic', 'central', 'line', 'placement', 'find', 'the', 'heart', 'is', 'borderlin', 'in', 'size', 'sentenceend', 'the', 'aorta', 'is', 'mildli', 'tortuou', 'sentenceend', 'xxxx', 'right', 'ij', 'cathet', 'is', 'in', 'xxxx', 'with', 'tip', 'in', 'proxim', 'right', 'atrium', 'cavoatri', 'junction', 'sentenceend', 'there', 'is', 'no', 'pneumothorax', 'sentenceend', 'lung', 'are', 'grossli', 'clear', 'sentenceend', 'there', 'is', 'no', 'larg', 'effus', 'sentenceend', 'impress', 'right', 'ij', 'cathet', 'tip', 'in', 'proxim', 'right', 'atrium', 'sentenceend', 'no', 'pneumothorax', 'sentenceend', 'sentenceend', 'sentenceend', 'sentenceend']\n"
     ]
    }
   ],
   "source": [
    "print(CXRAnnotator.processed_reports[500])"
   ]
  },
  {
   "cell_type": "markdown",
   "metadata": {},
   "source": [
    "Words were stemmed (\"indication\"-->\"indic\"), extra punctuation was removed, and periods were replaced with the special end character. Word2vec takes input in a format like this to learn word embeddings.\n",
    "\n",
    "Let's look at the n-gram features for this report, which will be used for bag of words modeling:"
   ]
  },
  {
   "cell_type": "code",
   "execution_count": 7,
   "metadata": {},
   "outputs": [
    {
     "name": "stdout",
     "output_type": "stream",
     "text": [
      "['find_the_heart', 'the_heart_is', 'the_aorta_is', 'lung_are_grossli', 'are_grossli_clear', 'no_larg_effus', 'comparison_none', 'find_the', 'the_heart', 'heart_is', 'in_size', 'the_aorta', 'aorta_is', 'is_mildli', 'xxxx_right', 'is_in', 'in_xxxx', 'xxxx_with', 'with_tip', 'tip_in', 'right_atrium', 'there_is', 'no_pneumothorax', 'lung_are', 'are_grossli', 'grossli_clear', 'there_is', 'no_larg', 'larg_effus', 'impress_right', 'cathet_tip', 'tip_in', 'right_atrium', 'no_pneumothorax', 'comparison', 'none', 'indic', 'central', 'line', 'placement', 'find', 'the', 'heart', 'is', 'borderlin', 'in', 'size', 'the', 'aorta', 'is', 'mildli', 'tortuou', 'xxxx', 'right', 'cathet', 'is', 'in', 'xxxx', 'with', 'tip', 'in', 'right', 'atrium', 'junction', 'there', 'is', 'pneumothorax', 'lung', 'are', 'grossli', 'clear', 'there', 'is', 'larg', 'effus', 'impress', 'right', 'cathet', 'tip', 'in', 'right', 'atrium', 'pneumothorax']\n"
     ]
    }
   ],
   "source": [
    "print(CXRAnnotator.ngram_reports[500])"
   ]
  },
  {
   "cell_type": "markdown",
   "metadata": {},
   "source": [
    "Since we have `N_GRAM_SIZES=[1,2,3]` in this demo, we see individual words (1-grams), each 2 consecutive words (2-grams; e.g., 'comparison_none'), and each 3 consecutive words ('no_larg_effus') available as features. Sometimes these 2- and 3-grams are uninformative ('comparison_none'), at other times they may be useful ('no_pneumothorax'). Note that only n-grams appearing `N_THRESH_CORPUS` times in training data (10 in this demo) are included. "
   ]
  },
  {
   "cell_type": "markdown",
   "metadata": {},
   "source": [
    "Train Lasso logistic regression models using features from 60% of labeled reports and infer labels for 40% of labeled reports (for performance evaluation) and unlabeled reports (for ultimate application):"
   ]
  },
  {
   "cell_type": "code",
   "execution_count": 8,
   "metadata": {},
   "outputs": [
    {
     "name": "stdout",
     "output_type": "stream",
     "text": [
      "generating features\n"
     ]
    },
    {
     "name": "stderr",
     "output_type": "stream",
     "text": [
      "100%|████████████████████████████████████████████████████████████████████████████| 1500/1500 [00:00<00:00, 4099.24it/s]\n"
     ]
    },
    {
     "name": "stdout",
     "output_type": "stream",
     "text": [
      "total labels:6\n",
      "labels eligible for inference:4\n",
      "dimensionality of predictor matrix:(1500, 2425)\n",
      "n_train in modeling=900\n",
      "n_test in modeling=600\n",
      "i=0\n"
     ]
    },
    {
     "name": "stderr",
     "output_type": "stream",
     "text": [
      "100%|███████████████████████████████████████████████████████████████████████████| 2000/2000 [00:00<00:00, 26965.13it/s]\n",
      "100%|███████████████████████████████████████████████████████████████████████████| 1666/1666 [00:00<00:00, 19683.19it/s]\n"
     ]
    }
   ],
   "source": [
    "binary_labels, proba_labels = CXRAnnotator.infer_labels()"
   ]
  },
  {
   "cell_type": "markdown",
   "metadata": {},
   "source": [
    "Examine quality of predictions on held out 40% of labeled data."
   ]
  },
  {
   "cell_type": "code",
   "execution_count": 9,
   "metadata": {},
   "outputs": [
    {
     "data": {
      "text/html": [
       "<div>\n",
       "<style>\n",
       "    .dataframe thead tr:only-child th {\n",
       "        text-align: right;\n",
       "    }\n",
       "\n",
       "    .dataframe thead th {\n",
       "        text-align: left;\n",
       "    }\n",
       "\n",
       "    .dataframe tbody tr th {\n",
       "        vertical-align: top;\n",
       "    }\n",
       "</style>\n",
       "<table border=\"1\" class=\"dataframe\">\n",
       "  <thead>\n",
       "    <tr style=\"text-align: right;\">\n",
       "      <th></th>\n",
       "      <th>AUC</th>\n",
       "      <th>True +</th>\n",
       "      <th>False +</th>\n",
       "      <th>True -</th>\n",
       "      <th>False -</th>\n",
       "    </tr>\n",
       "    <tr>\n",
       "      <th>Label (with calcs on held out 40 pct)</th>\n",
       "      <th></th>\n",
       "      <th></th>\n",
       "      <th></th>\n",
       "      <th></th>\n",
       "      <th></th>\n",
       "    </tr>\n",
       "  </thead>\n",
       "  <tbody>\n",
       "    <tr>\n",
       "      <th>Normal</th>\n",
       "      <td>0.956679</td>\n",
       "      <td>208</td>\n",
       "      <td>53</td>\n",
       "      <td>324</td>\n",
       "      <td>15</td>\n",
       "    </tr>\n",
       "    <tr>\n",
       "      <th>Opacity</th>\n",
       "      <td>0.981869</td>\n",
       "      <td>62</td>\n",
       "      <td>17</td>\n",
       "      <td>517</td>\n",
       "      <td>4</td>\n",
       "    </tr>\n",
       "    <tr>\n",
       "      <th>Cardiomegaly</th>\n",
       "      <td>0.993979</td>\n",
       "      <td>41</td>\n",
       "      <td>18</td>\n",
       "      <td>541</td>\n",
       "      <td>0</td>\n",
       "    </tr>\n",
       "    <tr>\n",
       "      <th>Nodule</th>\n",
       "      <td>0.991759</td>\n",
       "      <td>16</td>\n",
       "      <td>36</td>\n",
       "      <td>548</td>\n",
       "      <td>0</td>\n",
       "    </tr>\n",
       "  </tbody>\n",
       "</table>\n",
       "</div>"
      ],
      "text/plain": [
       "                                            AUC  True +  False +  True -  \\\n",
       "Label (with calcs on held out 40 pct)                                      \n",
       "Normal                                 0.956679     208       53     324   \n",
       "Opacity                                0.981869      62       17     517   \n",
       "Cardiomegaly                           0.993979      41       18     541   \n",
       "Nodule                                 0.991759      16       36     548   \n",
       "\n",
       "                                       False -  \n",
       "Label (with calcs on held out 40 pct)           \n",
       "Normal                                      15  \n",
       "Opacity                                      4  \n",
       "Cardiomegaly                                 0  \n",
       "Nodule                                       0  "
      ]
     },
     "execution_count": 9,
     "metadata": {},
     "output_type": "execute_result"
    }
   ],
   "source": [
    "CXRAnnotator.accuracy"
   ]
  },
  {
   "cell_type": "markdown",
   "metadata": {},
   "source": [
    "Notice `Fibrosis` was filtered out despite appearing in input data as we had very few positive observations. It is important to ensure that sufficient positive and negative cases for each label exist in your labeled data.\n",
    "\n",
    "Rare labels with high AUC may still have a significant number of false positives (`Nodule`). Be aware of noise introduced by your labeling process before using inferred labels to train convolutional neural networks or other algorithms, and consider the positive predictive value (PPV) of a positive label. Additional labeled examples, particularly of rare pathology, may help improve accuracy. \n",
    "\n",
    "Recent results ([Ghafoorian et al.](https://arxiv.org/abs/1801.05040) [Rajpurkar et al.](https://arxiv.org/abs/1711.05225)) demonstrate that deep learning can achieve impressive results when trained to a large noisily labeled radiological imaging dataset."
   ]
  },
  {
   "cell_type": "markdown",
   "metadata": {},
   "source": [
    "Examine a few probabilistic predictions:"
   ]
  },
  {
   "cell_type": "code",
   "execution_count": 10,
   "metadata": {},
   "outputs": [
    {
     "data": {
      "text/html": [
       "<div>\n",
       "<style>\n",
       "    .dataframe thead tr:only-child th {\n",
       "        text-align: right;\n",
       "    }\n",
       "\n",
       "    .dataframe thead th {\n",
       "        text-align: left;\n",
       "    }\n",
       "\n",
       "    .dataframe tbody tr th {\n",
       "        vertical-align: top;\n",
       "    }\n",
       "</style>\n",
       "<table border=\"1\" class=\"dataframe\">\n",
       "  <thead>\n",
       "    <tr style=\"text-align: right;\">\n",
       "      <th></th>\n",
       "      <th>Normal</th>\n",
       "      <th>Opacity</th>\n",
       "      <th>Cardiomegaly</th>\n",
       "      <th>Nodule</th>\n",
       "    </tr>\n",
       "    <tr>\n",
       "      <th>Accession Number</th>\n",
       "      <th></th>\n",
       "      <th></th>\n",
       "      <th></th>\n",
       "      <th></th>\n",
       "    </tr>\n",
       "  </thead>\n",
       "  <tbody>\n",
       "    <tr>\n",
       "      <th>103661</th>\n",
       "      <td>0.113953</td>\n",
       "      <td>0.007305</td>\n",
       "      <td>0.022156</td>\n",
       "      <td>0.009483</td>\n",
       "    </tr>\n",
       "    <tr>\n",
       "      <th>103662</th>\n",
       "      <td>0.283203</td>\n",
       "      <td>0.007305</td>\n",
       "      <td>0.022156</td>\n",
       "      <td>0.009483</td>\n",
       "    </tr>\n",
       "    <tr>\n",
       "      <th>103663</th>\n",
       "      <td>0.283203</td>\n",
       "      <td>0.007305</td>\n",
       "      <td>0.022156</td>\n",
       "      <td>0.009483</td>\n",
       "    </tr>\n",
       "    <tr>\n",
       "      <th>103664</th>\n",
       "      <td>0.000129</td>\n",
       "      <td>0.060547</td>\n",
       "      <td>0.058807</td>\n",
       "      <td>0.037109</td>\n",
       "    </tr>\n",
       "    <tr>\n",
       "      <th>103665</th>\n",
       "      <td>0.020233</td>\n",
       "      <td>0.999512</td>\n",
       "      <td>0.011406</td>\n",
       "      <td>0.019058</td>\n",
       "    </tr>\n",
       "  </tbody>\n",
       "</table>\n",
       "</div>"
      ],
      "text/plain": [
       "                    Normal   Opacity  Cardiomegaly    Nodule\n",
       "Accession Number                                            \n",
       "103661            0.113953  0.007305      0.022156  0.009483\n",
       "103662            0.283203  0.007305      0.022156  0.009483\n",
       "103663            0.283203  0.007305      0.022156  0.009483\n",
       "103664            0.000129  0.060547      0.058807  0.037109\n",
       "103665            0.020233  0.999512      0.011406  0.019058"
      ]
     },
     "execution_count": 10,
     "metadata": {},
     "output_type": "execute_result"
    }
   ],
   "source": [
    "proba_labels.tail()"
   ]
  },
  {
   "cell_type": "markdown",
   "metadata": {},
   "source": [
    "Examine a few binary predictions - these override to manual labels when available:"
   ]
  },
  {
   "cell_type": "code",
   "execution_count": 11,
   "metadata": {},
   "outputs": [
    {
     "data": {
      "text/html": [
       "<div>\n",
       "<style>\n",
       "    .dataframe thead tr:only-child th {\n",
       "        text-align: right;\n",
       "    }\n",
       "\n",
       "    .dataframe thead th {\n",
       "        text-align: left;\n",
       "    }\n",
       "\n",
       "    .dataframe tbody tr th {\n",
       "        vertical-align: top;\n",
       "    }\n",
       "</style>\n",
       "<table border=\"1\" class=\"dataframe\">\n",
       "  <thead>\n",
       "    <tr style=\"text-align: right;\">\n",
       "      <th></th>\n",
       "      <th>Normal</th>\n",
       "      <th>Opacity</th>\n",
       "      <th>Cardiomegaly</th>\n",
       "      <th>Nodule</th>\n",
       "    </tr>\n",
       "    <tr>\n",
       "      <th>Accession Number</th>\n",
       "      <th></th>\n",
       "      <th></th>\n",
       "      <th></th>\n",
       "      <th></th>\n",
       "    </tr>\n",
       "  </thead>\n",
       "  <tbody>\n",
       "    <tr>\n",
       "      <th>103661</th>\n",
       "      <td>0</td>\n",
       "      <td>0</td>\n",
       "      <td>0</td>\n",
       "      <td>0</td>\n",
       "    </tr>\n",
       "    <tr>\n",
       "      <th>103662</th>\n",
       "      <td>0</td>\n",
       "      <td>0</td>\n",
       "      <td>0</td>\n",
       "      <td>0</td>\n",
       "    </tr>\n",
       "    <tr>\n",
       "      <th>103663</th>\n",
       "      <td>0</td>\n",
       "      <td>0</td>\n",
       "      <td>0</td>\n",
       "      <td>0</td>\n",
       "    </tr>\n",
       "    <tr>\n",
       "      <th>103664</th>\n",
       "      <td>0</td>\n",
       "      <td>0</td>\n",
       "      <td>0</td>\n",
       "      <td>0</td>\n",
       "    </tr>\n",
       "    <tr>\n",
       "      <th>103665</th>\n",
       "      <td>0</td>\n",
       "      <td>1</td>\n",
       "      <td>0</td>\n",
       "      <td>0</td>\n",
       "    </tr>\n",
       "  </tbody>\n",
       "</table>\n",
       "</div>"
      ],
      "text/plain": [
       "                  Normal  Opacity  Cardiomegaly  Nodule\n",
       "Accession Number                                       \n",
       "103661                 0        0             0       0\n",
       "103662                 0        0             0       0\n",
       "103663                 0        0             0       0\n",
       "103664                 0        0             0       0\n",
       "103665                 0        1             0       0"
      ]
     },
     "execution_count": 11,
     "metadata": {},
     "output_type": "execute_result"
    }
   ],
   "source": [
    "binary_labels.tail()"
   ]
  },
  {
   "cell_type": "markdown",
   "metadata": {},
   "source": [
    "You can examine individual report predictions; here are report and predictions for a report that manual reviewers coded as `Normal`:"
   ]
  },
  {
   "cell_type": "code",
   "execution_count": 12,
   "metadata": {},
   "outputs": [
    {
     "name": "stdout",
     "output_type": "stream",
     "text": [
      "  Comparison:  None.   Indication:  XXXX, chest pain and XXXX x2 weeks.   Findings:  The cardiomediastinal silhouette and pulmonary vasculature are within normal limits in size. The lungs are clear of focal airspace disease, pneumothorax, or pleural effusion. There are no acute bony findings.   Impression:  No acute cardiopulmonary findings. \n",
      "\n",
      "\n",
      "Normal          0.969727\n",
      "Opacity         0.001776\n",
      "Cardiomegaly    0.000642\n",
      "Nodule          0.000948\n",
      "Name: 101700, dtype: float64\n",
      "\n",
      "\n",
      "Normal          1\n",
      "Opacity         0\n",
      "Cardiomegaly    0\n",
      "Nodule          0\n",
      "Name: 101700, dtype: int32\n"
     ]
    }
   ],
   "source": [
    "#normal report\n",
    "print(CXRAnnotator.df_data['Report Text'].iloc[1700])\n",
    "print(\"\\n\")\n",
    "print(proba_labels.iloc[1700])\n",
    "print(\"\\n\")\n",
    "print(binary_labels.iloc[1700])"
   ]
  },
  {
   "cell_type": "markdown",
   "metadata": {},
   "source": [
    "Here are report and predictions for a report that manual reviewers coded as positive for `Cardiomegaly`:"
   ]
  },
  {
   "cell_type": "code",
   "execution_count": 13,
   "metadata": {},
   "outputs": [
    {
     "name": "stdout",
     "output_type": "stream",
     "text": [
      "  Comparison:  PA and lateral chest x-XXXX dated XXXX.   Indication:  XXXX-year-old female with chest pain.   Findings:  The heart size is enlarged. Tortuous aorta. Otherwise the mediastinal contour is within normal limits. The lungs are free of any focal infiltrates. There are no nodules or masses. No visible pneumothorax. No visible pleural fluid. The XXXX are grossly normal. There is no visible free intraperitoneal air under the diaphragm.   Impression:  1. Cardiomegaly without lung infiltrates. \n",
      "\n",
      "\n",
      "Normal          0.008018\n",
      "Opacity         0.001008\n",
      "Cardiomegaly    0.981445\n",
      "Nodule          0.056152\n",
      "Name: 102100, dtype: float64\n",
      "\n",
      "\n",
      "Normal          0\n",
      "Opacity         0\n",
      "Cardiomegaly    1\n",
      "Nodule          0\n",
      "Name: 102100, dtype: int32\n"
     ]
    }
   ],
   "source": [
    "print(CXRAnnotator.df_data['Report Text'].iloc[2100])\n",
    "print(\"\\n\")\n",
    "print(proba_labels.iloc[2100])\n",
    "print(\"\\n\")\n",
    "print(binary_labels.iloc[2100])"
   ]
  },
  {
   "cell_type": "markdown",
   "metadata": {},
   "source": [
    "Here are report and predictions for a report that manual reviewers coded as positive for `Opacity`:"
   ]
  },
  {
   "cell_type": "code",
   "execution_count": 14,
   "metadata": {},
   "outputs": [
    {
     "name": "stdout",
     "output_type": "stream",
     "text": [
      "  Comparison:  XXXX, XXXX   Indication:  XXXX-year-old XXXX with chest pain.   Findings:  The heart size is stable. The aorta is ectatic and atherosclerotic but stable. XXXX sternotomy XXXX are again noted. The scarring in the left lower lobe is again noted and unchanged from prior exam. There are mild bilateral prominent lung interstitial opacities consistent with emphysematous disease. The calcified granulomas are stable.   Impression:  1. Changes of emphysema and left lower lobe scarring, both stable. 2. Unchanged degenerative and atherosclerotic changes of the thoracic aorta. \n",
      "\n",
      "\n",
      "Normal          0.000000\n",
      "Opacity         0.981445\n",
      "Cardiomegaly    0.125977\n",
      "Nodule          0.234497\n",
      "Name: 102770, dtype: float64\n",
      "\n",
      "\n",
      "Normal          0\n",
      "Opacity         1\n",
      "Cardiomegaly    0\n",
      "Nodule          0\n",
      "Name: 102770, dtype: int32\n"
     ]
    }
   ],
   "source": [
    "#opacity\n",
    "print(CXRAnnotator.df_data['Report Text'].iloc[2770])\n",
    "print(\"\\n\")\n",
    "print(proba_labels.iloc[2770])\n",
    "print(\"\\n\")\n",
    "print(binary_labels.iloc[2770])"
   ]
  }
 ],
 "metadata": {
  "kernelspec": {
   "display_name": "Python 3",
   "language": "python",
   "name": "python3"
  },
  "language_info": {
   "codemirror_mode": {
    "name": "ipython",
    "version": 3
   },
   "file_extension": ".py",
   "mimetype": "text/x-python",
   "name": "python",
   "nbconvert_exporter": "python",
   "pygments_lexer": "ipython3",
   "version": "3.6.2"
  }
 },
 "nbformat": 4,
 "nbformat_minor": 2
}
