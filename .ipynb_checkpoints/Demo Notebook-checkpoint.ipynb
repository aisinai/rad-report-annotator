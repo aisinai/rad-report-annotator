{
 "cells": [
  {
   "cell_type": "code",
   "execution_count": 1,
   "metadata": {},
   "outputs": [
    {
     "name": "stderr",
     "output_type": "stream",
     "text": [
      "C:\\Users\\jrzec\\Anaconda3\\lib\\site-packages\\gensim\\utils.py:860: UserWarning: detected Windows; aliasing chunkize to chunkize_serial\n",
      "  warnings.warn(\"detected Windows; aliasing chunkize to chunkize_serial\")\n"
     ]
    },
    {
     "name": "stdout",
     "output_type": "stream",
     "text": [
      "building pre-corpus\n",
      "pre-corpus built\n",
      "preprocessing reports\n"
     ]
    },
    {
     "name": "stderr",
     "output_type": "stream",
     "text": [
      "100%|████████████████████████████████████████████████████████████████████████████| 1956/1956 [00:01<00:00, 1228.73it/s]\n"
     ]
    },
    {
     "name": "stdout",
     "output_type": "stream",
     "text": [
      "creating n-grams\n"
     ]
    },
    {
     "name": "stderr",
     "output_type": "stream",
     "text": [
      "100%|███████████████████████████████████████████████████████████████████████████| 1956/1956 [00:00<00:00, 18015.26it/s]\n"
     ]
    },
    {
     "name": "stdout",
     "output_type": "stream",
     "text": [
      "number of unique n-grams: 15646\n",
      "number of unique n-grams after filtering out low frequency tokens: 15646\n",
      "999 unlabeled reports for featurization, 957 labeled reports for modeling\n",
      "started doc2vec training\n",
      "generating features\n"
     ]
    },
    {
     "name": "stderr",
     "output_type": "stream",
     "text": [
      "100%|██████████████████████████████████████████████████████████████████████████████| 957/957 [00:00<00:00, 1727.78it/s]\n"
     ]
    },
    {
     "name": "stdout",
     "output_type": "stream",
     "text": [
      "total labels:4\n",
      "labels eligible for inference:2\n",
      "dimensionality of predictor matrix:(957, 15846)\n",
      "n_train in modeling=574\n",
      "n_test in modeling=383\n",
      "i=0\n"
     ]
    },
    {
     "name": "stderr",
     "output_type": "stream",
     "text": [
      "100%|████████████████████████████████████████████████████████████████████████████| 1956/1956 [00:00<00:00, 4442.31it/s]\n"
     ]
    },
    {
     "name": "stdout",
     "output_type": "stream",
     "text": [
      "\n",
      "accuracy:\n",
      "  Label (with calcs on held out 40 pct)       AUC   TP  FP   TN  FN\n",
      "0                                  spam  0.985313  165   6  192  20\n",
      "1                              not_spam  0.985203  192  20  165   6\n",
      "\n",
      "probabilistic predictions:\n",
      "       spam  not_spam\n",
      "1  0.028473  0.971680\n",
      "2  0.019669  0.979980\n",
      "3  0.858398  0.140259\n",
      "4  0.066895  0.933105\n",
      "5  0.066833  0.933105\n",
      "\n",
      "binary predictions:\n",
      "   spam  not_spam\n",
      "1     0         1\n",
      "2     0         1\n",
      "3     1         0\n",
      "4     0         1\n",
      "5     0         1\n",
      "\n",
      "inference finished\n"
     ]
    }
   ],
   "source": [
    "import RadReportAnnotator as ra\n",
    "import os.path\n",
    "\n",
    "#we use demo data from spam classification dataset: https://archive.ics.uci.edu/ml/datasets/spambase\n",
    "\n",
    "#this example can be adapted to your own collection of radiology reports exported from Montage \n",
    "#and a manually-generated set of classification labels\n",
    "\n",
    "CTHAnnotator = ra.RadReportAnnotator(report_dir_path=os.path.join(\"pseudodata\",\"reports\"), validation_file_path=os.path.join(\"pseudodata\",\"labels\",\"labeled_reports.xlsx\"))\n",
    "\n",
    "#set arguments here - examples - see documentation in RadReportAnnotator for more information \n",
    "CTHAnnotator.define_config(DO_BOW=True,\n",
    "\tDO_WORD2VEC=True,\n",
    "\tDO_PARAGRAPH_VECTOR=False,\n",
    "\tTRAIN_INDEX_OVERRIDE=range(0,1000), \n",
    "\tN_GRAM_SIZES=[1,2,3],\n",
    "\tSILVER_THRESHOLD=\"fiftypct\",\n",
    "\tNAME_UNID_REPORTS = \"ACCID\", \n",
    "\tNAME_TEXT_REPORTS =\"REPORT\")\n",
    "\n",
    "#build corpus and train models\n",
    "CTHAnnotator.build_corpus()\n",
    "\n",
    "#infer labels\n",
    "binary_labels, proba_labels = CTHAnnotator.infer_labels()\n",
    "\n",
    "#examine quality of predictions\n",
    "print(\"\\naccuracy:\")\n",
    "print(CTHAnnotator.accuracy)\n",
    "\n",
    "#see predictions\n",
    "print(\"\\nprobabilistic predictions:\")\n",
    "print(proba_labels.head())\n",
    "print(\"\\nbinary predictions:\")\n",
    "print(binary_labels.head())\n",
    "\n",
    "print(\"\\ninference finished\")\n"
   ]
  },
  {
   "cell_type": "code",
   "execution_count": null,
   "metadata": {
    "collapsed": true
   },
   "outputs": [],
   "source": []
  }
 ],
 "metadata": {
  "kernelspec": {
   "display_name": "Python 3",
   "language": "python",
   "name": "python3"
  },
  "language_info": {
   "codemirror_mode": {
    "name": "ipython",
    "version": 3
   },
   "file_extension": ".py",
   "mimetype": "text/x-python",
   "name": "python",
   "nbconvert_exporter": "python",
   "pygments_lexer": "ipython3",
   "version": "3.6.2"
  }
 },
 "nbformat": 4,
 "nbformat_minor": 2
}
